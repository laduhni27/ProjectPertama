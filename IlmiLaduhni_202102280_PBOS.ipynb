{
 "cells": [
  {
   "cell_type": "code",
   "execution_count": 2,
   "id": "bf12577b",
   "metadata": {},
   "outputs": [
    {
     "name": "stdout",
     "output_type": "stream",
     "text": [
      "ilmi\n",
      "laduhni\n"
     ]
    }
   ],
   "source": [
    "nama = \"ilmi\"\n",
    "NAMA = \"laduhni\"\n",
    "print(nama)\n",
    "print(NAMA)"
   ]
  },
  {
   "cell_type": "code",
   "execution_count": 3,
   "id": "7cd63eed",
   "metadata": {},
   "outputs": [
    {
     "name": "stdout",
     "output_type": "stream",
     "text": [
      "Ilmi Laduhni\n",
      "L\n",
      "\n",
      "            kuburaya kalimantan barat\n",
      "            sungai Ambawang\n",
      "            \n",
      "islam\n"
     ]
    }
   ],
   "source": [
    "nama = \"Ilmi Laduhni\"\n",
    "jenis_kelamin = \"L\"\n",
    "alamat = \"\"\"\n",
    "            kuburaya kalimantan barat\n",
    "            sungai Ambawang\n",
    "            \"\"\"\n",
    "agama = \"islam\"\n",
    "print(nama)\n",
    "print(jenis_kelamin)\n",
    "print(alamat)\n",
    "print(agama)"
   ]
  },
  {
   "cell_type": "code",
   "execution_count": 4,
   "id": "7f4e5a67",
   "metadata": {},
   "outputs": [
    {
     "data": {
      "text/plain": [
       "int"
      ]
     },
     "execution_count": 4,
     "metadata": {},
     "output_type": "execute_result"
    }
   ],
   "source": [
    "isBooked = True\n",
    "nyala =1\n",
    "type(nyala) "
   ]
  },
  {
   "cell_type": "code",
   "execution_count": 6,
   "id": "987183a8",
   "metadata": {},
   "outputs": [
    {
     "name": "stdout",
     "output_type": "stream",
     "text": [
      "Nama :  Ilmi Laduhni\n",
      "Umur :  18\n",
      "Alamat :  Pontianak kuburaya\n",
      "Tinggi :  170cm\n",
      "Status : Belum Menikah\n"
     ]
    }
   ],
   "source": [
    "nama = \"Ilmi Laduhni\"\n",
    "umur = \"18\"\n",
    "alamat= \"Pontianak kuburaya\"\n",
    "tinggi = \"170cm\"\n",
    "menikah = False\n",
    "\n",
    "#cetak\n",
    "print(\"Nama : \", nama)\n",
    "print(\"Umur : \", umur)\n",
    "print(\"Alamat : \", alamat)\n",
    "print(\"Tinggi : \", tinggi)\n",
    "if(menikah) : \n",
    "    print(\" Status : Menikah\")\n",
    "else :\n",
    "    print(\"Status : Belum Menikah\")\n"
   ]
  },
  {
   "cell_type": "code",
   "execution_count": 3,
   "id": "d0716bd1",
   "metadata": {},
   "outputs": [
    {
     "name": "stdout",
     "output_type": "stream",
     "text": [
      "BIODATA\n",
      "Nama :  Ilmi Laduhni\n",
      "Umur :   18 Tahun\n",
      "Alamat : \n",
      "            Sungai Ambawang KubuRaya Kalimantan Barat\n",
      "            \n",
      "Agama : Islam\n",
      "Jenis Kelamin :  Laki-Laki\n",
      "Tinggi :  170cm\n",
      "Status : Belum Menikah\n"
     ]
    }
   ],
   "source": [
    "P = \"BIODATA\"\n",
    "\n",
    "nama = \"Ilmi Laduhni\"\n",
    "umur = \" 18 Tahun\"\n",
    "alamat = \"\"\"\n",
    "            Sungai Ambawang KubuRaya Kalimantan Barat\n",
    "            \"\"\"\n",
    "agama = \"Islam\"\n",
    "jeniskelamin = \"Laki-Laki\"\n",
    "tinggi = \"170cm\"\n",
    "menikah = False \n",
    "\n",
    "\n",
    "#cetak\n",
    "print(P)\n",
    "print(\"Nama : \", nama)\n",
    "print(\"Umur : \", umur)\n",
    "print(\"Alamat :\", alamat)\n",
    "print(\"Agama :\", agama)\n",
    "print(\"Jenis Kelamin : \", jeniskelamin)\n",
    "print(\"Tinggi : \", tinggi)\n",
    "if(menikah) :\n",
    "    print(\"Status : Menikah\")\n",
    "else :\n",
    "    print(\"Status : Belum Menikah\")"
   ]
  },
  {
   "cell_type": "code",
   "execution_count": null,
   "id": "262b6c76",
   "metadata": {},
   "outputs": [],
   "source": []
  }
 ],
 "metadata": {
  "kernelspec": {
   "display_name": "Python 3",
   "language": "python",
   "name": "python3"
  },
  "language_info": {
   "codemirror_mode": {
    "name": "ipython",
    "version": 3
   },
   "file_extension": ".py",
   "mimetype": "text/x-python",
   "name": "python",
   "nbconvert_exporter": "python",
   "pygments_lexer": "ipython3",
   "version": "3.8.8"
  }
 },
 "nbformat": 4,
 "nbformat_minor": 5
}
